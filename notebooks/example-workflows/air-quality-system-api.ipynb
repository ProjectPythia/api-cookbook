{
 "cells": [
  {
   "cell_type": "markdown",
   "metadata": {},
   "source": [
    "<img src=\"../images/ProjectPythia_Logo_Final-01-Blue.svg\" width=300 alt=\"Project Pythia Logo\"></img><img src=\"https://images.unsplash.com/photo-1686179225818-c07909cd2911?q=80&w=2070&auto=format&fit=crop&ixlib=rb-4.0.3&ixid=M3wxMjA3fDB8MHxwaG90by1wYWdlfHx8fGVufDB8fHx8fA%3D%3D\" width=300, alt=\"Wildfire smoke over New York City (June 7, 2023)\"></img>\n",
    "Photo by <a href=\"https://unsplash.com/@ahmerkalam?utm_content=creditCopyText&utm_medium=referral&utm_source=unsplash\">Ahmer Kalam</a> on <a href=\"https://unsplash.com/photos/a-foggy-city-skyline-with-the-sun-in-the-distance-Reuk1nmutFI?utm_content=creditCopyText&utm_medium=referral&utm_source=unsplash\">Unsplash</a>"
   ]
  },
  {
   "cell_type": "markdown",
   "metadata": {},
   "source": [
    "# Visualizing Data with EPA's Air Quality System (AQS) API"
   ]
  },
  {
   "cell_type": "markdown",
   "metadata": {},
   "source": [
    "---"
   ]
  },
  {
   "cell_type": "markdown",
   "metadata": {
    "tags": []
   },
   "source": [
    "# AQS API Workflow\n",
    "\n",
    "## Overview\n",
    "Air quality data are an important aspect of both atmospheric and environmental sciences. Understanding the concentrations of particulate matter and chemical species (e.g., O<sub>3</sub> and NO<sub>x</sub>) can be useful for air pollution analysis from both the physical science and health science perspectives.\n",
    "\n",
    "The US EPA AQS has archived data that have gone through quality assurance.\n",
    "\n",
    "In this notebook, we will cover:\n",
    "1. Accessing data from the AQS\n",
    "1. Exploring the format of the data\n",
    "1. Preparing the data for visualization\n",
    "1. Generating a timeseries plot"
   ]
  },
  {
   "cell_type": "markdown",
   "metadata": {
    "tags": []
   },
   "source": [
    "## Prerequisites\n",
    "\n",
    "| Concepts | Importance | Notes |\n",
    "| --- | --- | --- |\n",
    "| [Introduction to Pandas](https://foundations.projectpythia.org/core/pandas/pandas.html) | Necessary | How to deal with dataframes and datasets |\n",
    "| [Matplotlib Basics](https://foundations.projectpythia.org/core/matplotlib/matplotlib-basics.html) | Helpful | Skills for different plotting styles and techniques |\n",
    "\n",
    "- **Time to learn**: 30 minutes\n",
    "- **System requirements**:\n",
    "    - <b>Email address</b> for AQS API access"
   ]
  },
  {
   "cell_type": "markdown",
   "metadata": {},
   "source": [
    "---"
   ]
  },
  {
   "cell_type": "markdown",
   "metadata": {
    "tags": []
   },
   "source": [
    "## Imports\n",
    "\n",
    "\n",
    "<div class=\"admonition alert alert-info\">\n",
    "    <p class=\"admonition-title\" style=\"font-weight:bold\">Info</p>\n",
    "Here we'll import lots of stuff, but we might not end up using them all...\n",
    "</div"
   ]
  },
  {
   "cell_type": "code",
   "execution_count": 1,
   "metadata": {},
   "outputs": [],
   "source": [
    "import matplotlib.pyplot as plt\n",
    "import seaborn as sns\n",
    "import pandas as pd\n",
    "from datetime import date\n",
    "from datetime import datetime\n",
    "import numpy as np\n",
    "import os\n",
    "import pyaqsapi as aqs"
   ]
  },
  {
   "cell_type": "markdown",
   "metadata": {},
   "source": [
    "---"
   ]
  },
  {
   "cell_type": "markdown",
   "metadata": {
    "tags": []
   },
   "source": [
    "## Accessing Data from the AQS"
   ]
  },
  {
   "cell_type": "markdown",
   "metadata": {},
   "source": [
    "<div class=\"admonition alert alert-warning\">\n",
    "    <p class=\"admonition-title\" style=\"font-weight:bold\">Important:</p>\n",
    "\n",
    "<b>If you have previously registered an account with the AQS</b>, now will be a good time to get that information out and <b>skip past the</b> `aqs.aqs_sign_up()` <b>step below</b>.\n",
    "\n",
    "<b>If not</b>, you should have an email address in mind that you'd like to use.\n",
    "</div>"
   ]
  },
  {
   "cell_type": "markdown",
   "metadata": {},
   "source": [
    "### Register a new email with `aqs_sign_up()`\n",
    "\n",
    "In the cell below, uncomment the code and replace '`EMAIL`' with an email address to use for API credentials."
   ]
  },
  {
   "cell_type": "code",
   "execution_count": 2,
   "metadata": {
    "tags": []
   },
   "outputs": [],
   "source": [
    "# aqs.aqs_sign_up('EMAIL')"
   ]
  },
  {
   "cell_type": "markdown",
   "metadata": {},
   "source": [
    "<div class=\"admonition alert alert-danger\">\n",
    "    <p class=\"admonition-title\" style=\"font-weight:bold\">IMPORTANT</p>\n",
    "\n",
    "<b>Replace your email address</b> with '<b>EMAIL</b>' after you've run `aqs_sign_up()`, or <b>comment out</b> the line!\n",
    "    <p>A <b>new API key</b> will be generated <i><b>every time</b></i> that line of code is executed!\n",
    "</div>"
   ]
  },
  {
   "cell_type": "markdown",
   "metadata": {},
   "source": [
    "#### Data can be pulled from the AQS in a number of different ways...\n",
    "1. By Sample Site\n",
    "1. By County\n",
    "1. By State\n",
    "1. By Lat/Lon Box\n",
    "1. By Monitoring Agency\n",
    "1. By Primary Quality Assurance Organization\n",
    "1. By Core Based Statistical Aera (as defined by the US Census Bureau)"
   ]
  },
  {
   "cell_type": "markdown",
   "metadata": {},
   "source": [
    "### Let's look at how the package deals with states..."
   ]
  },
  {
   "cell_type": "code",
   "execution_count": 3,
   "metadata": {
    "tags": []
   },
   "outputs": [],
   "source": [
    "#aqs.aqs_states()"
   ]
  },
  {
   "cell_type": "markdown",
   "metadata": {
    "tags": []
   },
   "source": [
    "<div class=\"admonition alert alert-danger\">\n",
    "    <p class=\"admonition-title\" style=\"font-weight:bold\">Whoops!</p>\n",
    "    You need to input your credentials before any of the functions will work!\n",
    "</div>"
   ]
  },
  {
   "cell_type": "code",
   "execution_count": 4,
   "metadata": {
    "tags": []
   },
   "outputs": [
    {
     "ename": "NameError",
     "evalue": "name 'AQS_USERNAME' is not defined",
     "output_type": "error",
     "traceback": [
      "\u001b[1;31m---------------------------------------------------------------------------\u001b[0m",
      "\u001b[1;31mNameError\u001b[0m                                 Traceback (most recent call last)",
      "Cell \u001b[1;32mIn[4], line 3\u001b[0m\n\u001b[0;32m      1\u001b[0m \u001b[38;5;66;03m# This cell is used to build this notebook behind the scenes at Project Pythia\u001b[39;00m\n\u001b[1;32m----> 3\u001b[0m AQS_USERNAME \u001b[38;5;241m=\u001b[39m os\u001b[38;5;241m.\u001b[39mgetenv(\u001b[43mAQS_USERNAME\u001b[49m)\n\u001b[0;32m      4\u001b[0m AQS_KEY \u001b[38;5;241m=\u001b[39m os\u001b[38;5;241m.\u001b[39mgetenv(AQS_KEY)\n\u001b[0;32m      6\u001b[0m \u001b[38;5;66;03m# Comment out the lines of this cell and follow the instructions below.\u001b[39;00m\n",
      "\u001b[1;31mNameError\u001b[0m: name 'AQS_USERNAME' is not defined"
     ]
    }
   ],
   "source": [
    "# This cell is used to build this notebook behind the scenes at Project Pythia\n",
     
    "'''\n",
    "AQS_USERNAME = os.getenv('AQS_USERNAME')\n",
    "AQS_KEY = os.getenv('AQS_KEY')\n",
    "'''\n",

    "# Comment out the lines of this cell and follow the instructions below."
   ]
  },
  {
   "cell_type": "markdown",
   "metadata": {},
   "source": [
    "##### Use the `aqs_credentials()` function to input your username (email address) and access key.\n",
    "<b>This is all found in the email you received when verifying your email address.</b>\n",
    "\n",
    "If you've previously registered your address and do not have the key, you can simply generate a new key by using the `aqs_sign_up()` funtion to resubmit your email address.\n",
    "\n",
    "*Let's also save our username and key as variables that we can easily call later.*\n",
    "\n",
    " -   Uncomment the lines in the cell below.\n",
    " -   Replace `'AQS_USERNAME'` and `'AQS_KEY'` with your credentials. We stored them as [environment variables](https://pubs.opengroup.org/onlinepubs/9699919799/basedefs/V1_chap08.html), to ensure they are kept secret."
   ]
  },
  {
   "cell_type": "code",
   "execution_count": 5,
   "metadata": {},
   "outputs": [],
   "source": [
    "#AQS_USERNAME = ('AQS_USERNAME')\n",
    "#AQS_KEY = ('AQS_KEY')"
   ]
  },
  {
   "cell_type": "markdown",
   "metadata": {},
   "source": [
    "<div class=\"admonition alert alert-danger\">\n",
    "    <p class=\"admonition-title\" style=\"font-weight:bold\">MAKE SURE TO CLEAR VARIABLES!</p>\n",
    "    Make sure to <b>clear</b> these variables <b>before</b> submitting a <b>pull request</b>! You <b>do not</b> want to <b>share your credentials</b>!\n",
    "</div>"
   ]
  },
  {
   "cell_type": "code",
   "execution_count": 6,
   "metadata": {
    "tags": []
   },
   "outputs": [
    {
     "name": "stdout",
     "output_type": "stream",
     "text": [
      "username:  None\n",
      "key:  None\n",
      "AQS_user, None None\n",
      "AQS_key None None\n",
      "Please set the username and key parameters\n"
     ]
    }
   ],
   "source": [
    "aqs.aqs_credentials(username= os.getenv('AQS_USERNAME'), key=os.getenv('AQS_KEY'))"
   ]
  },
  {
   "cell_type": "markdown",
   "metadata": {},
   "source": [
    "### Let's look at those states now..."
   ]
  },
  {
   "cell_type": "code",
   "execution_count": 7,
   "metadata": {
    "tags": []
   },
   "outputs": [],
   "source": [
    "#aqs.aqs_states()"
   ]
  },
  {
   "cell_type": "markdown",
   "metadata": {},
   "source": [
    "<b>Since states will be input via a number, let's store `aqs_states()` as a variable that we can call on later to remind ourselves of what states we need.</b>\n",
    "\n",
    "Let's assume for now that we want to focus on New York and also save that code as variable."
   ]
  },
  {
   "cell_type": "code",
   "execution_count": 8,
   "metadata": {
    "tags": []
   },
   "outputs": [
    {
     "name": "stdout",
     "output_type": "stream",
     "text": [
      "Please use the aqs_credentials  function to enter your credentials before using this function\n"
     ]
    }
   ],
   "source": [
    "states = aqs.aqs_states()\n",
    "NY = 36"
   ]
  },
  {
   "cell_type": "markdown",
   "metadata": {},
   "source": [
    "<div class=\"admonition alert alert-danger\">\n",
    "    <p class=\"admonition-title\" style=\"font-weight:bold\">Everything Is Currently Input Numerically</p>\n",
    "    It's important that we also address the fact that, currently, everything is input as a numerical value for pulling these data from the AQS with this Python package.\n",
    "</div>\n",
    "\n",
    "Parameter Codes can be accessed from the EPA [here](https://aqs.epa.gov/aqsweb/documents/codetables/parameters.html), but to simplify things here are codes for a few common pollutants with defined Air Quality Index values you might be looking for...\n",
    "\n",
    "| Pollutant | Parameter Code |\n",
    "| --- | --- |\n",
    "| Carbon Monoxide (CO) | 42101 |\n",
    "| Nitrogen Dioxide (NO<sub>2</sub>) | 42602 |\n",
    "| Ozone (O<sub>3</sub>) | 44201 |\n",
    "| PM 10 (Total) | 81102 |  \n",
    "\n",
    "\n",
    "Other variables that might be of interest:\n",
    "| MET | Parameter Code |\n",
    "| --- | --- |\n",
    "| Wind Speed - Resultant (knots) | 61103 |\n",
    "| Wind Direction - Resultant (deg) | 61104 |\n",
    "| Outdoor Temperature (F) | 62101 |\n",
    "| Average Ambient Temperature (C) | 68105 |\n",
    "| Relative Humidity (%) | 62201 |\n",
    "| Barometric Pressure (mbar) | 64101 |"
   ]
  },
  {
   "cell_type": "markdown",
   "metadata": {},
   "source": [
    "##### Let's also store the parameter codes as variables to make things more simple."
   ]
  },
  {
   "cell_type": "code",
   "execution_count": 9,
   "metadata": {
    "tags": []
   },
   "outputs": [],
   "source": [
    "CO = 42101\n",
    "NO2 = 42602\n",
    "O3 = 44201\n",
    "PM10 = 81102"
   ]
  },
  {
   "cell_type": "markdown",
   "metadata": {},
   "source": [
    "---"
   ]
  },
  {
   "cell_type": "markdown",
   "metadata": {
    "tags": []
   },
   "source": [
    "## Exploring the format of the data"
   ]
  },
  {
   "cell_type": "markdown",
   "metadata": {},
   "source": [
    "Let's look at current O<sub>3</sub> data for New York State."
   ]
  },
  {
   "cell_type": "code",
   "execution_count": 10,
   "metadata": {
    "tags": []
   },
   "outputs": [
    {
     "name": "stdout",
     "output_type": "stream",
     "text": [
      "2024 6 20\n"
     ]
    }
   ],
   "source": [
    "now = datetime.today()\n",
    "year = now.year\n",
    "month = now.month\n",
    "day = now.day\n",
    "print(year, month, day)"
   ]
  },
  {
   "cell_type": "markdown",
   "metadata": {
    "tags": []
   },
   "source": [
    "<div class=\"admonition alert alert-warning\">\n",
    "    <p class=\"admonition-title\" style=\"font-weight:bold\">Warning</p>\n",
    "    The AQS does <b>not</b> have real-time data. Also, note that the above times are in UTC!\n",
    "</div>"
   ]
  },
  {
   "cell_type": "markdown",
   "metadata": {
    "tags": []
   },
   "source": [
    "We'll subtract one day so we have the past day of data."
   ]
  },
  {
   "cell_type": "code",
   "execution_count": 11,
   "metadata": {
    "tags": []
   },
   "outputs": [
    {
     "name": "stdout",
     "output_type": "stream",
     "text": [
      "Please use the aqs_credentials  function to enter your credentials before using this function\n"
     ]
    },
    {
     "ename": "AttributeError",
     "evalue": "'tuple' object has no attribute 'get_data'",
     "output_type": "error",
     "traceback": [
      "\u001b[1;31m---------------------------------------------------------------------------\u001b[0m",
      "\u001b[1;31mAttributeError\u001b[0m                            Traceback (most recent call last)",
      "Cell \u001b[1;32mIn[11], line 1\u001b[0m\n\u001b[1;32m----> 1\u001b[0m ozone \u001b[38;5;241m=\u001b[39m \u001b[43maqs\u001b[49m\u001b[38;5;241;43m.\u001b[39;49m\u001b[43mbystate\u001b[49m\u001b[38;5;241;43m.\u001b[39;49m\u001b[43msampledata\u001b[49m\u001b[43m(\u001b[49m\u001b[43mparameter\u001b[49m\u001b[38;5;241;43m=\u001b[39;49m\u001b[43m \u001b[49m\u001b[43mO3\u001b[49m\u001b[43m,\u001b[49m\u001b[43m \u001b[49m\u001b[43mbdate\u001b[49m\u001b[43m \u001b[49m\u001b[38;5;241;43m=\u001b[39;49m\u001b[43m \u001b[49m\u001b[43mdate\u001b[49m\u001b[43m(\u001b[49m\u001b[43myear\u001b[49m\u001b[38;5;241;43m=\u001b[39;49m\u001b[43myear\u001b[49m\u001b[43m,\u001b[49m\u001b[43m \u001b[49m\u001b[43mmonth\u001b[49m\u001b[38;5;241;43m=\u001b[39;49m\u001b[43mmonth\u001b[49m\u001b[43m,\u001b[49m\u001b[43m \u001b[49m\u001b[43mday\u001b[49m\u001b[43m \u001b[49m\u001b[38;5;241;43m=\u001b[39;49m\u001b[43m \u001b[49m\u001b[43mday\u001b[49m\u001b[38;5;241;43m-\u001b[39;49m\u001b[38;5;241;43m1\u001b[39;49m\u001b[43m)\u001b[49m\u001b[43m,\u001b[49m\u001b[43m \u001b[49m\u001b[43medate\u001b[49m\u001b[43m \u001b[49m\u001b[38;5;241;43m=\u001b[39;49m\u001b[43m \u001b[49m\u001b[43mdate\u001b[49m\u001b[43m(\u001b[49m\u001b[43myear\u001b[49m\u001b[38;5;241;43m=\u001b[39;49m\u001b[43myear\u001b[49m\u001b[43m,\u001b[49m\u001b[43m \u001b[49m\u001b[43mmonth\u001b[49m\u001b[38;5;241;43m=\u001b[39;49m\u001b[43mmonth\u001b[49m\u001b[43m,\u001b[49m\u001b[43m \u001b[49m\u001b[43mday\u001b[49m\u001b[43m \u001b[49m\u001b[38;5;241;43m=\u001b[39;49m\u001b[43m \u001b[49m\u001b[43mday\u001b[49m\u001b[43m)\u001b[49m\u001b[43m,\u001b[49m\u001b[43m \u001b[49m\u001b[43mstateFIPS\u001b[49m\u001b[38;5;241;43m=\u001b[39;49m\u001b[43mNY\u001b[49m\u001b[43m)\u001b[49m\n",
      "File \u001b[1;32mC:\\ProgramData\\miniforge3\\envs\\api-cookbook\\Lib\\site-packages\\pyaqsapi\\bystate\\bystate.py:424\u001b[0m, in \u001b[0;36msampledata\u001b[1;34m(parameter, bdate, edate, stateFIPS, cbdate, cedate, duration, return_header)\u001b[0m\n\u001b[0;32m    422\u001b[0m     \u001b[38;5;28;01mreturn\u001b[39;00m aqsresultlist\n\u001b[0;32m    423\u001b[0m \u001b[38;5;28;01melse\u001b[39;00m:\n\u001b[1;32m--> 424\u001b[0m     \u001b[38;5;28;01mreturn\u001b[39;00m \u001b[43mhelperfunctions\u001b[49m\u001b[38;5;241;43m.\u001b[39;49m\u001b[43maqs_removeheader\u001b[49m\u001b[43m(\u001b[49m\u001b[43maqsresultlist\u001b[49m\u001b[43m)\u001b[49m\n",
      "File \u001b[1;32mC:\\ProgramData\\miniforge3\\envs\\api-cookbook\\Lib\\site-packages\\pyaqsapi\\helperfunctions.py:1088\u001b[0m, in \u001b[0;36maqs_removeheader\u001b[1;34m(aqsobject)\u001b[0m\n\u001b[0;32m   1086\u001b[0m aqsresult \u001b[38;5;241m=\u001b[39m DataFrame()\n\u001b[0;32m   1087\u001b[0m \u001b[38;5;28;01mfor\u001b[39;00m x \u001b[38;5;129;01min\u001b[39;00m \u001b[38;5;28mrange\u001b[39m(\u001b[38;5;28mlen\u001b[39m(aqsobject)):\n\u001b[1;32m-> 1088\u001b[0m     aqsresult \u001b[38;5;241m=\u001b[39m concat([aqsresult, \u001b[43maqsobject\u001b[49m\u001b[43m[\u001b[49m\u001b[43mx\u001b[49m\u001b[43m]\u001b[49m\u001b[38;5;241;43m.\u001b[39;49m\u001b[43mget_data\u001b[49m()], axis\u001b[38;5;241m=\u001b[39m\u001b[38;5;241m0\u001b[39m)\n\u001b[0;32m   1090\u001b[0m \u001b[38;5;28;01mreturn\u001b[39;00m aqsresult\n",
      "\u001b[1;31mAttributeError\u001b[0m: 'tuple' object has no attribute 'get_data'"
     ]
    }
   ],
   "source": [
    "ozone = aqs.bystate.sampledata(parameter= O3, bdate = date(year=year, month=month, day = day-1), edate = date(year=year, month=month, day = day), stateFIPS=NY)"
   ]
  },
  {
   "cell_type": "code",
   "execution_count": null,
   "metadata": {
    "tags": []
   },
   "outputs": [],
   "source": [
    "ozone"
   ]
  },
  {
   "cell_type": "markdown",
   "metadata": {},
   "source": [
    "<div class=\"admonition alert alert-danger\">\n",
    "    <p class=\"admonition-title\" style=\"font-weight:bold\">Oh, no!</p>\n",
    "    Looks like there isn't current O<sub>3</sub> data available. We must go <i>even further</i> back in time. \n",
    "</div>"
   ]
  },
  {
   "cell_type": "code",
   "execution_count": null,
   "metadata": {
    "tags": []
   },
   "outputs": [],
   "source": [
    "ozone = aqs.bystate.sampledata(parameter= O3, bdate = date(year=year-1, month=month, day = day-1), edate = date(year=year-1, month=month, day = day), stateFIPS=NY)"
   ]
  },
  {
   "cell_type": "code",
   "execution_count": null,
   "metadata": {
    "tags": []
   },
   "outputs": [],
   "source": [
    "ozone"
   ]
  },
  {
   "cell_type": "markdown",
   "metadata": {},
   "source": [
    "Great! Now we have some data. Let's look at the columns."
   ]
  },
  {
   "cell_type": "code",
   "execution_count": null,
   "metadata": {
    "tags": []
   },
   "outputs": [],
   "source": [
    "ozone.columns"
   ]
  },
  {
   "cell_type": "markdown",
   "metadata": {},
   "source": [
    "<b>There is a lot of information in this dataset.</b>\n",
    "\n",
    "1. Geospatial Information\n",
    "    \n",
    "1. Temporal Information\n",
    "    \n",
    "1. Sample Information\n",
    "    \n",
    "1. Data QA Information\n",
    "\n",
    "<div class=\"admonition alert alert-info\">\n",
    "    <p class=\"admonition-title\" style=\"font-weight:bold\"> We'll focus on a few from 1, 2, and 3:</p>\n",
    "        <b>Latitude</b> and <b>Longitude</b> can be used to plot these data over a map, which will be addressed in <i>Notebook 3 of this Cookbook</i>.<p>\n",
    "    <p>\n",
    "        <b>Local Date</b> and <b>Time</b>, as well as <b>State</b>, <b>County</b>, and <b>Site Number</b> can be used as to isolate data for a time series.\n",
    "    <p>\n",
    "        <b>Units of Measure</b> will be necessary for annotations and labels.\n",
    "</div>"
   ]
  },
  {
   "cell_type": "markdown",
   "metadata": {
    "tags": []
   },
   "source": [
    "<div class=\"admonition alert alert-info\">\n",
    "    <p class=\"admonition-title\" style=\"font-weight:bold\">PAUSE</p>\n",
    "    We've seen how to pull the data, and we've seen that pulling current data is not possible due to the lag between sample time and quality-assurance checks.<p>\n",
    "    <p>You are encouraged to check for more current data but, for now, let's look at this month's data from last year.\n",
    "</div>"
   ]
  },
  {
   "cell_type": "code",
   "execution_count": null,
   "metadata": {
    "tags": []
   },
   "outputs": [],
   "source": [
    "start = 1\n",
    "end = 30 #(Replace this value to match the appropriate \"last day\" of the month you are running this notebook)"
   ]
  },
  {
   "cell_type": "code",
   "execution_count": null,
   "metadata": {
    "tags": []
   },
   "outputs": [],
   "source": [
    "ozone = aqs.bystate.sampledata(parameter= O3, bdate = date(year=year-1, month=month, day = start), edate = date(year=year-1, month=month, day = end), stateFIPS=NY)\n",
    "ozone"
   ]
  },
  {
   "cell_type": "markdown",
   "metadata": {},
   "source": [
    "A quick check at plotting the data in its original format shows that some polishing is necessary."
   ]
  },
  {
   "cell_type": "code",
   "execution_count": null,
   "metadata": {
    "tags": []
   },
   "outputs": [],
   "source": [
    "plt.plot(ozone['date_local'], ozone['sample_measurement'], '.')"
   ]
  },
  {
   "cell_type": "markdown",
   "metadata": {},
   "source": [
    "<div class=\"admonition alert alert-warning\">\n",
    "    <p class=\"admonition-title\" style=\"font-weight:bold\">Spatiotemporal Issues Abound!</p>\n",
    "    It looks like the primary hiccups in trying to plot these data are the fact that the DataFrame has a separate column for date and time, and that there are multiple sample sites across the DataFrame.\n",
    "\n",
    "<p></p>We can combine the dates and times into a single datetime value.<p>\n",
    "    \n",
    "We can also specify the sample sites we want to look at, or take averages across a county or the whole state.<p>Either way, we'll need to prepare the data.</p>\n",
    "</div>"
   ]
  },
  {
   "cell_type": "markdown",
   "metadata": {},
   "source": [
    "---"
   ]
  },
  {
   "cell_type": "markdown",
   "metadata": {
    "tags": []
   },
   "source": [
    "## Preparing the data for visualization\n",
    "\n",
    "Let's utilize some Pandas features to generate a more manageable DataFrame for plotting."
   ]
  },
  {
   "cell_type": "markdown",
   "metadata": {
    "tags": []
   },
   "source": [
    "##### First, let's select only one specific county--Albany\n",
    "\n",
    "<div class=\"admonition alert alert-warning\">\n",
    "    <p class=\"admonition-title\" style=\"font-weight:bold\">Warning</p>\n",
    "    Not every county samples every type of pollutant!\n",
    "</div>\n"
   ]
  },
  {
   "cell_type": "code",
   "execution_count": null,
   "metadata": {
    "tags": []
   },
   "outputs": [],
   "source": [
    "O3alb = ozone.loc[ozone['county'] == 'Albany', ['date_local', 'time_local', 'sample_measurement', 'units_of_measure', 'site_number', 'latitude', 'longitude']]"
   ]
  },
  {
   "cell_type": "code",
   "execution_count": null,
   "metadata": {
    "tags": []
   },
   "outputs": [],
   "source": [
    "O3alb"
   ]
  },
  {
   "cell_type": "markdown",
   "metadata": {},
   "source": [
    "<div class=\"admonition alert alert-warning\">\n",
    "    <p class=\"admonition-title\" style=\"font-weight:bold\">Warning</p>\n",
    "Something is a bit off, here. We see that the datetimes are mostly, but not entirely in order.\n",
    "\n",
    "<b>OR...</b> you see that there is no data at all. This is the result of data being sporatic over space and time.\n",
    "</div>\n",
    "\n",
    "<div class=\"admonition alert alert-danger\">\n",
    "    <p class=\"admonition-title\" style=\"font-weight:bold\">Team Question</p>\n",
    " \n",
    "<b>Perhaps this notebook should choose a specific time that we know there is data in, at least after showing that this problem might arise?</b></div>"
   ]
  },
  {
   "cell_type": "markdown",
   "metadata": {},
   "source": [
    "Let's make sure our new DataFrame for Albany is properly chronological."
   ]
  },
  {
   "cell_type": "code",
   "execution_count": null,
   "metadata": {
    "tags": []
   },
   "outputs": [],
   "source": [
    "O3alb['datetime'] = pd.to_datetime(O3alb['date_local'] + ' ' + O3alb['time_local'])\n",
    "O3alb = O3alb.sort_values(by='datetime')"
   ]
  },
  {
   "cell_type": "code",
   "execution_count": null,
   "metadata": {
    "tags": []
   },
   "outputs": [],
   "source": [
    "O3alb"
   ]
  },
  {
   "cell_type": "markdown",
   "metadata": {
    "tags": []
   },
   "source": [
    "Now we should be able to plot a basic ozone time series for Albany, NY that covers this month for last year."
   ]
  },
  {
   "cell_type": "markdown",
   "metadata": {},
   "source": [
    "---"
   ]
  },
  {
   "cell_type": "markdown",
   "metadata": {
    "tags": []
   },
   "source": [
    "## Generating a time series plot"
   ]
  },
  {
   "cell_type": "markdown",
   "metadata": {},
   "source": [
    "Let's quickly test a lineplot of our data using seaborn."
   ]
  },
  {
   "cell_type": "code",
   "execution_count": null,
   "metadata": {
    "tags": []
   },
   "outputs": [],
   "source": [
    "sns.lineplot(x=\"datetime\", y=\"sample_measurement\", data=O3alb)"
   ]
  },
  {
   "cell_type": "markdown",
   "metadata": {},
   "source": [
    "<div class=\"admonition alert alert-success\">\n",
    "    <p class=\"admonition-title\" style=\"font-weight:bold\">Success</p>\n",
    "    We have a time series! Now let's polish it up a bit...\n",
    "</div>"
   ]
  },
  {
   "cell_type": "code",
   "execution_count": null,
   "metadata": {
    "tags": []
   },
   "outputs": [],
   "source": [
    "    # Design the figure:\n",
    "\n",
    "# Figure shape\n",
    "fig, ax = plt.subplots(figsize = (20,5))\n",
    "\n",
    "# Give it a title\n",
    "plt.title(f'Ozone Concentration\n",
    " Albany, NY - {month}/{year-1}', fontsize = 20)\n",
    "\n",
    "# Plot the data\n",
    "sns.lineplot(x=\"datetime\", y=\"sample_measurement\", data=O3alb, ax=ax)\n",
    "\n",
    "# Title the axes\n",
    "ax.set_xlabel('Date', labelpad = 20, fontsize = 16)\n",
    "ax.set_ylabel('[O$_{3}$] (ppm)', labelpad = 20, fontsize = 16)\n",
    "\n",
    "    # For the X-Axis\n",
    "\n",
    "# Set major x-ticks for midnight (00h)\n",
    "x_major = O3alb['datetime'][O3alb['datetime'].dt.hour == 0]\n",
    "ax.set_xticks(x_major)\n",
    "print(O3alb['datetime'].min())\n",
    "print(O3alb['datetime'].max())\n",
    "# Set minor ticks at every 6 hours\n",
    "x_minor = pd.date_range(start= O3alb['datetime'].min(), end= O3alb['datetime'].max(), freq='6H')\n",
    "ax.set_xticks(x_minor, minor=True)\n",
    "\n",
    "# Clean up the date label so it doesn't show the year or minutes\n",
    "formatted_labels = [x.strftime('%m-%d %H') + 'h' for x in x_major]\n",
    "ax.set_xticklabels(formatted_labels, rotation=90, fontsize = 14)\n",
    "\n",
    "    # For the Y-Axis\n",
    "\n",
    "# Add minor ticks to the y-axis\n",
    "y_minor = np.arange(0, 0.06, 0.002)\n",
    "ax.set_yticks(y_minor, minor = True)\n",
    "\n",
    "# Fix the fontsize for the y-tick labels\n",
    "ax.tick_params(axis='y', labelsize=14)\n",
    "\n",
    "plt.show()"
   ]
  },
  {
   "cell_type": "markdown",
   "metadata": {},
   "source": [
    "We can also add a new data points to compare (e.g., NO<sub>2</sub>)"
   ]
  },
  {
   "cell_type": "code",
   "execution_count": null,
   "metadata": {
    "tags": []
   },
   "outputs": [],
   "source": [
    "NO2_data = aqs.bystate.sampledata(parameter= NO2, bdate = date(year=year-1, month=month, day = start), edate = date(year=year-1, month=month, day = end), stateFIPS=NY)"
   ]
  },
  {
   "cell_type": "code",
   "execution_count": null,
   "metadata": {
    "tags": []
   },
   "outputs": [],
   "source": [
    "NO2_data['county'].unique()"
   ]
  },
  {
   "cell_type": "markdown",
   "metadata": {},
   "source": [
    "<div class=\"admonition alert alert-danger\">\n",
    "    <p class=\"admonition-title\" style=\"font-weight:bold\">ALBANY?!</p>\n",
    "    Albany doesn't seem to display data for NO<sub>2</sub>.<p>\n",
    "    You're welcome to check on your own for another pollutant to compare, but we'll shift to another county that covers both O<sub>3</sub> and NO<sub>2</sub>.\n",
    "</div>"
   ]
  },
  {
   "cell_type": "code",
   "execution_count": null,
   "metadata": {
    "tags": []
   },
   "outputs": [],
   "source": [
    "ozone['county'].unique()"
   ]
  },
  {
   "cell_type": "markdown",
   "metadata": {},
   "source": [
    "The Bronx seems like a good county to work with for the purposes of this Notebook."
   ]
  },
  {
   "cell_type": "code",
   "execution_count": null,
   "metadata": {
    "tags": []
   },
   "outputs": [],
   "source": [
    "bronxNO2 = NO2_data.loc[NO2_data['county'] == 'Bronx', ['date_local', 'time_local', 'sample_measurement', 'units_of_measure', 'site_number', 'latitude', 'longitude']]\n",
    "bronxO3 = ozone.loc[ozone['county'] == 'Bronx', ['date_local', 'time_local', 'sample_measurement', 'units_of_measure', 'site_number', 'latitude', 'longitude']]"
   ]
  },
  {
   "cell_type": "code",
   "execution_count": null,
   "metadata": {
    "tags": []
   },
   "outputs": [],
   "source": [
    "print('O3: ', bronxO3.iloc[0,:], '\n",
    "')\n",
    "print('NO2: ', bronxNO2.iloc[0,:])"
   ]
  },
  {
   "cell_type": "markdown",
   "metadata": {},
   "source": [
    "We've seen that both data are present for Bronx County."
   ]
  },
  {
   "cell_type": "markdown",
   "metadata": {},
   "source": [
    "Again, let's make sure our new DataFrames are properly chronological."
   ]
  },
  {
   "cell_type": "code",
   "execution_count": null,
   "metadata": {
    "tags": []
   },
   "outputs": [],
   "source": [
    "bronxO3['datetime'] = pd.to_datetime(bronxO3['date_local'] + ' ' + bronxO3['time_local'])\n",
    "bronxO3 = bronxO3.sort_values(by='datetime')\n",
    "\n",
    "bronxNO2['datetime'] = pd.to_datetime(bronxNO2['date_local'] + ' ' + bronxNO2['time_local'])\n",
    "bronxNO2 = bronxNO2.sort_values(by='datetime')\n"
   ]
  },
  {
   "cell_type": "markdown",
   "metadata": {
    "tags": []
   },
   "source": [
    "### Now we'll plot both data together."
   ]
  },
  {
   "cell_type": "code",
   "execution_count": null,
   "metadata": {
    "tags": []
   },
   "outputs": [],
   "source": [
    "    # Design the figure:   \n",
    "fig, ax = plt.subplots(figsize = (20,5))\n",
    "\n",
    "shared_colors = sns.color_palette('muted')\n",
    "\n",
    "# Create a secondary y-axis\n",
    "ax2 = ax.twinx()\n",
    "\n",
    "# Give it a title\n",
    "plt.title(f'Air Pollution Concentration\n",
    " Bronx County, NY - {month}/{year-1}', fontsize = 20)\n",
    "\n",
    "# Plot the data for O3\n",
    "sns.lineplot(x=\"datetime\", y=\"sample_measurement\", data=bronxO3, label = 'O$_{3}$', ax = ax, legend = False, color= shared_colors[0],)\n",
    "\n",
    "# Plot NO2 data alongside O3 data\n",
    "sns.lineplot(x=\"datetime\", y=\"sample_measurement\", data=bronxNO2, label='NO$_{2}$', ax = ax2, legend = False, color= shared_colors[1],)\n",
    "\n",
    "\n",
    "    # For the X-Axis:\n",
    "\n",
    "# Title the x-axis\n",
    "ax.set_xlabel('Date', labelpad = 20, fontsize = 16)\n",
    "\n",
    "# Set major x-ticks for midnight (00h)\n",
    "x_major = bronxO3['datetime'][bronxO3['datetime'].dt.hour == 0]\n",
    "ax.set_xticks(x_major)\n",
    "\n",
    "# Set minor ticks at every 6 hours\n",
    "x_minor = pd.date_range(start= bronxO3['datetime'].min(), end= bronxO3['datetime'].max(), freq='6H')\n",
    "ax.set_xticks(x_minor, minor=True)\n",
    "\n",
    "# Clean up the date label so it doesn't show the year or minutes\n",
    "formatted_labels = [x.strftime('%m-%d %H') + 'h' for x in x_major]\n",
    "ax.set_xticklabels(formatted_labels, rotation=90, fontsize = 14)\n",
    "\n",
    "    # For the Y-Axes:\n",
    "\n",
    "# Add titles to both y-axes\n",
    "ax.set_ylabel('[O$_{3}$] (ppm)', labelpad = 25, fontsize = 16)\n",
    "ax2.set_ylabel('[NO$_{2}$] (ppm)', labelpad=25, fontsize=16, rotation = -90)\n",
    "\n",
    "# Add minor ticks to the y-axis for O3\n",
    "y_minor = np.arange(0, 0.06, 0.002)\n",
    "ax.set_yticks(y_minor, minor = True)\n",
    "\n",
    "# Fix the fontsize for the y-tick labels\n",
    "ax.tick_params(axis='y', labelsize=14)\n",
    "\n",
    "# Add minor ticks to the secondary y-axis for NO2\n",
    "y2_minor = np.arange(0, 55, 2)\n",
    "ax2.set_yticks(y2_minor, minor=True)\n",
    "\n",
    "# Match fontsize for secondary y-axis\n",
    "ax2.tick_params(axis='y', labelsize=14)\n",
    "\n",
    "    # Design the legend:\n",
    "\n",
    "# Combine both plot labels into a single legend\n",
    "handles, labels = ax.get_legend_handles_labels()\n",
    "handles2, labels2 = ax2.get_legend_handles_labels()\n",
    "\n",
    "plt.legend(handles + handles2, labels + labels2, loc='best', fontsize=18)\n",
    "\n",
    "\n",
    "plt.show()"
   ]
  },
  {
   "cell_type": "markdown",
   "metadata": {},
   "source": [
    "<div class=\"admonition alert alert-success\">\n",
    "    <p class=\"admonition-title\" style=\"font-weight:bold\">Success</p>\n",
    "    We've been able to pull data from the AQS and plot a time series!\n",
    "</div>"
   ]
  },
  {
   "cell_type": "markdown",
   "metadata": {},
   "source": [
    "---"
   ]
  },
  {
   "cell_type": "markdown",
   "metadata": {},
   "source": [
    "### Let's take a quick look at how you can pull data based on a areal extent, and then we'll close out this notebook."
   ]
  },
  {
   "cell_type": "markdown",
   "metadata": {},
   "source": [
    "#### Let's start with the CONUS"
   ]
  },
  {
   "cell_type": "code",
   "execution_count": null,
   "metadata": {
    "tags": []
   },
   "outputs": [],
   "source": [
    "lonW = '-130'\n",
    "lonE = '-62'\n",
    "latS = '20'\n",
    "latN = '55'"
   ]
  },
  {
   "cell_type": "code",
   "execution_count": null,
   "metadata": {
    "tags": []
   },
   "outputs": [],
   "source": [
    "CONUS = aqs.bybox.sampledata(parameter= O3, bdate = date(year=year-1, month=month, day = day-1), \n",
    "                           edate = date(year=year-1, month=month, day = day), \n",
    "                           minlat = latS, maxlat = latN, minlon = lonW, maxlon = lonE)\n",
    "CONUS"
   ]
  },
  {
   "cell_type": "markdown",
   "metadata": {},
   "source": [
    "#### We can also use the extent parameters for New York State."
   ]
  },
  {
   "cell_type": "code",
   "execution_count": null,
   "metadata": {
    "tags": []
   },
   "outputs": [],
   "source": [
    "NY_E = -71\n",
    "NY_W = -81.0\n",
    "NY_N = 46\n",
    "NY_S = 40"
   ]
  },
  {
   "cell_type": "code",
   "execution_count": null,
   "metadata": {
    "tags": []
   },
   "outputs": [],
   "source": [
    "NYS = aqs.bybox.sampledata(parameter= O3, bdate = date(year=year-1, month=month, day = day-1), \n",
    "                           edate = date(year=year-1, month=month, day = day), \n",
    "                           minlat = NY_S, maxlat = NY_N, minlon = NY_W, maxlon = NY_E)\n",
    "NYS"
   ]
  },
  {
   "cell_type": "markdown",
   "metadata": {},
   "source": [
    "<div class=\"admonition alert alert-success\">\n",
    "    <p class=\"admonition-title\" style=\"font-weight:bold\">Success</p>\n",
    "    We've successfully fetched data from the AQS by areal extent for both the CONUS and for NYS!\n",
    "</div>\n",
    "\n",
    "<div class=\"admonition alert alert-warning\">\n",
    "    <p class=\"admonition-title\" style=\"font-weight:bold\">NOTE</p>\n",
    "    If you want to only use data for within the state, be sure to filter the new DataFrame to ommit data points from other states that cross into the boundaries of your areal extent.\n",
    "</div>"
   ]
  },
  {
   "cell_type": "markdown",
   "metadata": {},
   "source": [
    "---"
   ]
  },
  {
   "cell_type": "markdown",
   "metadata": {},
   "source": [
    "## Summary\n",
    "In this notebook, we've \n",
    "- managed to access air pollution data from the EPA's AQS\n",
    "- looked at different ways to fetch the data\n",
    "- looked at different types of data available\n",
    "- prepared the data for plotting\n",
    "- generated time series plots of air pollution data\n",
    "-<b>(... include plotting over a map, direct user to other cookbooks for ideas on interactive visuals?)</b>\n",
    "\n",
    "<b>You are encouraged to explore other variables within the dataset, and to utilize pandas and numpy functions to look at ways to manipulate and analyze these data!</b>"
   ]
  },
  {
   "cell_type": "markdown",
   "metadata": {},
   "source": [
    "## Resources and references\n",
    "\n",
    "Documentation for pyaqsapi: https://usepa.github.io/pyaqsapi/pyaqsapi.html\n",
    "\n",
    "More information about the pyaqsapi package (developed by [Clinton McCrowey, EPA Region 3](https://github.com/mccroweyclinton-EPA)) can be found on GitHub: https://github.com/USEPA/pyaqsapi\n",
    "\n",
    "The EPA's AQS has general information and documentation here: https://www.epa.gov/aqs\n",
    "\n",
    "Details about the specific parameter codes can be found here: https://aqs.epa.gov/aqsweb/documents/codetables/parameters.html\n",
    "\n",
    "To access real-time data for air pollution, the [AirNow API](https://docs.airnowapi.org/) can be utilized.\n",
    "\n",
    "Thanks to Daniel Garver (EPA Region 4) for help locating the AQS API, and for directing the authors of this Cookbook to the appropriate resources.\n",
    "\n",
    "---\n",
    "\n",
    "##### Information about the author: [Adam Deitsch](https://amdeitsch.github.io/)\n"
   ]
  }
 ],
 "metadata": {
  "kernelspec": {
   "display_name": "Python 3 (ipykernel)",
   "language": "python",
   "name": "python3"
  },
  "language_info": {
   "codemirror_mode": {
    "name": "ipython",
    "version": 3
   },
   "file_extension": ".py",
   "mimetype": "text/x-python",
   "name": "python",
   "nbconvert_exporter": "python",
   "pygments_lexer": "ipython3",
   "version": "3.12.4"
  },
  "nbdime-conflicts": {
   "local_diff": [
    {
     "diff": [
      {
       "diff": [
        {
         "key": 0,
         "op": "addrange",
         "valuelist": [
          "Python 3"
         ]
        },
        {
         "key": 0,
         "length": 1,
         "op": "removerange"
        }
       ],
       "key": "display_name",
       "op": "patch"
      }
     ],
     "key": "kernelspec",
     "op": "patch"
    }
   ],
   "remote_diff": [
    {
     "diff": [
      {
       "diff": [
        {
         "key": 0,
         "op": "addrange",
         "valuelist": [
          "Python3"
         ]
        },
        {
         "key": 0,
         "length": 1,
         "op": "removerange"
        }
       ],
       "key": "display_name",
       "op": "patch"
      }
     ],
     "key": "kernelspec",
     "op": "patch"
    }
   ]
  },
  "toc-autonumbering": false
 },
 "nbformat": 4,
 "nbformat_minor": 4
}
