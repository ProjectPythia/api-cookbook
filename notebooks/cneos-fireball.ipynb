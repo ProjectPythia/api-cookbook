{
 "cells": [
  {
   "cell_type": "markdown",
   "metadata": {},
   "source": [
    "<img src=\"https://www.nasa.gov/wp-content/uploads/2023/03/704419main_meteor-gif-full_full.gif?w=1041\" alt=\"Bay Area Fireball\"></img>"
   ]
  },
  {
   "cell_type": "markdown",
   "metadata": {},
   "source": [
    "# NASA API: World Map of Fireball Impacts"
   ]
  },
  {
   "cell_type": "markdown",
   "metadata": {},
   "source": [
    "---"
   ]
  },
  {
   "cell_type": "markdown",
   "metadata": {},
   "source": [
    "## Overview\n",
    "This notebook will cover all the steps to access bright meteor and fireball impact data collected by NASA's CNEOS and produce a global plot of impact sites\n",
    "\n",
    "1. Prerequisites\n",
    "2. CNEOS Overview\n",
    "3. API Overview and Setup\n",
    "4. Imports\n",
    "5. Access and Organize Data\n",
    "6. Plot Earth Fireball Impacts\n",
    "7. Summary"
   ]
  },
  {
   "cell_type": "markdown",
   "metadata": {},
   "source": [
    "## Prerequisites\n",
    "| Concepts | Importance | Notes |\n",
    "| --- | --- | --- |\n",
    "| [Intro to Matplotlib](https://foundations.projectpythia.org/core/matplotlib/matplotlib-basics.html) | Helfpul | |\n",
    "| [Intro to Pandas](https://foundations.projectpythia.org/core/pandas/pandas.html) | Helpful | Familiarity with working with dataframes |"
   ]
  },
  {
   "cell_type": "markdown",
   "metadata": {},
   "source": [
    "---"
   ]
  },
  {
   "cell_type": "markdown",
   "metadata": {},
   "source": [
    "## CNEOS Overivew"
   ]
  },
  {
   "cell_type": "markdown",
   "metadata": {},
   "source": [
    "A shooting star is a common term for a meteor and form bright trails of light that are often bright enough to be visible during the day. A \"fireball\" is a term for expectionally bright meteor that enters the Earth's atmosphere at high speeds. A meteor that form fireballs can be over one meter long. A \"bolide\" typically refers to a fireball that breaks up in the atmosphere. These objects are tracked by the [Center for Near Earth Object Studies (CNEOS)](https://cneos.jpl.nasa.gov/) and information about the Peak Brightness, Velocity, and Joules of energy radiatated can be retrieved from CNEOS via an API"
   ]
  },
  {
   "cell_type": "markdown",
   "metadata": {},
   "source": [
    "---"
   ]
  },
  {
   "cell_type": "markdown",
   "metadata": {},
   "source": [
    "## API Overview and Setup"
   ]
  },
  {
   "cell_type": "markdown",
   "metadata": {},
   "source": [
    "There are many ways to gather data. Science and research entities like NASA are constantly producing and collecting data. As a result, attempting to collect and display live data can be difficult since new data is always being added. An API (Application Program Interface) is a live service that can be quered at the time that code is run to collect all the most current data. JPL's Center for Near-Earth Objects Studies [API \"Fireball\"](https://ssd-api.jpl.nasa.gov/doc/fireball.html) is an API that will return machine-readable data in the form of a JSON. This notebook will query the Fireball API for data from the last year of observations. The \"last year\" will depend on the year when this notebook is run, so the data is always up to date and relevant\n",
    "\n",
    "### Setup API Access Key\n",
    "Data is requested to the Fireball API via an API key. An API key is a string of numbers and letters that are unique to a specific user. API keys are required to query from an API and often are associated with an hourly limit on how often an API can be query. For NASA API's like Fireball there is an hourly limit of 1000 requests.\n",
    "\n",
    "Sign up for an API key to have a unquie key generated on the [NASA API website](https://api.nasa.gov/). For the purposes of this notebook, the API key will be `DEMO_KEY`. `DEMO_KEY` is a valid API key used for lessons and documentation, but has a lower hourly limit of 30 requests per IP address per hour and a total of 50 requests per day. For the purposes of this notebook, replace `DEMO_KEY` with the API key that was generated for you on the [NASA API website](https://api.nasa.gov)\n",
    "\n",
    "### Fireball Data API\n",
    "The [Fireball Data API](https://ssd-api.jpl.nasa.gov/doc/fireball.html) returns data about Fireball atmospheric impact data reported by US Government sensors\n",
    "\n",
    "All queries to the Fireball Data API make requests to `https://ssd-api.jpl.nasa.gov/fireball.api`\n",
    "\n",
    "The API accepts different query parameters to filter the data\n",
    "\n",
    "Directly querying `https://ssd-api.jpl.nasa.gov/fireball.api` will return all the data of fireball impacts in reverse-chronological order\n",
    "\n",
    "| Parameter | Type | Description |\n",
    "| --- | --- | --- |\n",
    "| date-min | string | exclude data earlier than this date `YYYY-MM-DD` or date/time `YYYY-MM-DDThh:mm:ss` |\n",
    "| date-max | string | exclude data later than this date `YYYY-MM-DD` or date/time `YYYY-MM-DDThh:mm:ss` |\n",
    "| energy-min | string | exclude data with total-radiated-energy less than this positive value in joules ×1010 (e.g., `0.3` = 0.3×1010 joules) |\n",
    "| energy-max | string | exclude data with total-radiated-energy greater than this (see energy-min) |\n",
    "| impact-e-min | string | exclude data with estimated impact energy less than this positive value in kilotons (kt) (e.g., `0.08` kt) |\n",
    "| impact-e-max | string | exclude data with total-radiated-energy greater than this (see impact-e-min) |\n",
    "| alt-min | number | exclude data from objects with an altitude less than this (e.g., `22` meaning objects smaller than this) |\n",
    "| alt-max | number | exclude data from objects with an altitude greater than this (e.g., `17.75` meaning objects larger than this) |\n",
    "| req-loc | boolean | location (latitude and longitude) required; when set `true`, exclude data without a location |\n",
    "| req-alt | boolean | altitude required; when set `true`, exclude data without an altitude |\n",
    "| req-vel-comp | boolean | pre-entry velocity components required; when set `true`, exclude data without pre-entry velocity components |\n",
    "| vel-comp | boolean | include pre-entry velocity components |\n",
    "| sort | string | sort data on the specified field: “date”, “energy”, “impact-e”, “vel”, or “alt” (default sort order is ascending: prepend “-“ for descending) |\n",
    "| limit | number | limit data to the first N results (where N is the specified number and must be an integer value greater than zero) |\n",
    "\n",
    "Results from API will be returned as JSON with a number of fields\n",
    "\n",
    "| Field | Description |\n",
    "| --- | --- |\n",
    "| date | date/time of peak brightness (GMT) |\n",
    "| lat | latitude at peak brightness (degrees) |\n",
    "| lon | longitude at peak brightness (degrees) |\n",
    "| lat-dir | latitude direction (“N” or “S”) |\n",
    "| lon-dir | latitude direction (“E” or “W”) |\n",
    "| alt | altitude above the geoid at peak brightness (km) |\n",
    "| energy | approximate total radiated energy (10^10 joules) |\n",
    "| impact-e | approximate total impact energy (kt) |\n",
    "| vx | pre-entry velocity (Earth centered X component, km/s) |\n",
    "| vy | pre-entry velocity (Earth centered Y component, km/s) | \n",
    "| vz | pre-entry velocity (Earth centered Z component, km/s) |\n",
    "\n",
    "## Example JSON result\n",
    "\n",
    "Return the last 3 records `https://ssd-api.jpl.nasa.gov/fireball.api?limit=3`\n",
    "\n",
    "```\n",
    "{\n",
    "    \"signature\":\n",
    "        {\n",
    "            \"version\":\"1.0\",\n",
    "            \"source\":\"NASA/JPL Fireball Data API\"\n",
    "        },\n",
    "    \"count\":\"3\",\n",
    "    \"fields\":[\"date\",\"energy\",\"impact-e\",\"lat\",\"lat-dir\",\"lon\",\"lon-dir\",\"alt\",\"vel\"],\n",
    "    \"data\":[\n",
    "        [\"2024-06-03 01:13:51\",\"2.6\",\"0.092\",\"63.1\",\"S\",\"53.2\",\"W\",\"60.0\",null],\n",
    "        [\"2024-06-01 23:24:59\",\"7.9\",\"0.25\",\"1.0\",\"S\",\"15.9\",\"W\",\"26.5\",\"12.6\"],\n",
    "        [\"2024-05-27 03:19:36\",\"8.4\",\"0.26\",\"1.7\",\"N\",\"39.4\",\"W\",\"56.0\",\"39.2\"]\n",
    "    ]\n",
    "}\n",
    "```"
   ]
  },
  {
   "cell_type": "markdown",
   "metadata": {},
   "source": [
    "## Imports"
   ]
  },
  {
   "cell_type": "code",
   "execution_count": 33,
   "metadata": {},
   "outputs": [],
   "source": [
    "import requests                 # submit API request query\n",
    "import pandas as pd             # organizes data retrieved by the API\n",
    "import matplotlib.pyplot as plt # plot data on a world map\n",
    "import io"
   ]
  },
  {
   "cell_type": "markdown",
   "metadata": {},
   "source": [
    "## Request Fireball Data via API"
   ]
  },
  {
   "cell_type": "markdown",
   "metadata": {},
   "source": [
    "Description"
   ]
  },
  {
   "cell_type": "code",
   "execution_count": 17,
   "metadata": {},
   "outputs": [
    {
     "name": "stdout",
     "output_type": "stream",
     "text": [
      "200\n"
     ]
    }
   ],
   "source": [
    "data_since = \"2024-01-01\"\n",
    "last_year_fireball = requests.get(f\"https://ssd-api.jpl.nasa.gov/fireball.api?date-min={data_since}\")\n",
    "print(last_year_fireball.status_code) # 200 is a valid request"
   ]
  },
  {
   "cell_type": "code",
   "execution_count": 45,
   "metadata": {},
   "outputs": [
    {
     "name": "stdout",
     "output_type": "stream",
     "text": [
      "fields = ['date', 'energy', 'impact-e', 'lat', 'lat-dir', 'lon', 'lon-dir', 'alt', 'vel']\n",
      "data = [['2024-06-03 01:13:51', '2.6', '0.092', '63.1', 'S', '53.2', 'W', '60.0', None], ['2024-06-01 23:24:59', '7.9', '0.25', '1.0', 'S', '15.9', 'W', '26.5', '12.6'], ['2024-05-27 03:19:36', '8.4', '0.26', '1.7', 'N', '39.4', 'W', '56.0', '39.2'], ['2024-05-24 16:19:59', '5.4', '0.18', '6.6', 'N', '114.2', 'E', '42.0', '36.5'], ['2024-05-18 22:46:50', '3.7', '0.13', '41.0', 'N', '8.8', 'W', '74.3', '40.4'], ['2024-05-15 12:48:28', '2.8', '0.098', '49.8', 'N', '54.1', 'W', '64.2', None], ['2024-05-05 20:11:03', '3.7', '0.13', '7.1', 'S', '112.7', 'W', '39.0', '13.9'], ['2024-04-09 04:47:44', '3.3', '0.11', '36.5', 'N', '37.8', 'W', '36.3', None], ['2024-03-17 06:17:58', '3.7', '0.13', '27.6', 'N', '117.2', 'E', '42.1', '25.6'], ['2024-02-26 11:21:01', '3.7', '0.13', '22.9', 'N', '57.1', 'E', '33.1', '31.3'], ['2024-02-05 00:32:54', '4.6', '0.15', '13.8', 'S', '123.7', 'E', '23.0', '14.4']]\n"
     ]
    }
   ],
   "source": [
    "# print out data\n",
    "json = last_year_fireball.json()\n",
    "print(f\"fields = {json['fields']}\")\n",
    "print(f\"data = {json['data']}\")"
   ]
  },
  {
   "cell_type": "code",
   "execution_count": 35,
   "metadata": {},
   "outputs": [],
   "source": [
    "# convert JSON data to a Pandas dataframe"
   ]
  },
  {
   "cell_type": "markdown",
   "metadata": {},
   "source": [
    "### A content subsection\n",
    "Divide and conquer your objectives with Markdown subsections, which will populate the helpful navbar in Jupyter Lab and here on the Jupyter Book!"
   ]
  },
  {
   "cell_type": "code",
   "execution_count": null,
   "metadata": {},
   "outputs": [],
   "source": [
    "# some subsection code\n",
    "new = \"helpful information\""
   ]
  },
  {
   "cell_type": "markdown",
   "metadata": {},
   "source": [
    "### Another content subsection\n",
    "Keep up the good work! A note, *try to avoid using code comments as narrative*, and instead let them only exist as brief clarifications where necessary."
   ]
  },
  {
   "cell_type": "markdown",
   "metadata": {},
   "source": [
    "## Your second content section\n",
    "Here we can move on to our second objective, and we can demonstrate"
   ]
  },
  {
   "cell_type": "markdown",
   "metadata": {},
   "source": [
    "### Subsection to the second section\n",
    "\n",
    "#### a quick demonstration\n",
    "\n",
    "##### of further and further\n",
    "\n",
    "###### header levels"
   ]
  },
  {
   "cell_type": "markdown",
   "metadata": {},
   "source": [
    "as well $m = a * t / h$ text! Similarly, you have access to other $\\LaTeX$ equation [**functionality**](https://jupyter-notebook.readthedocs.io/en/stable/examples/Notebook/Typesetting%20Equations.html) via MathJax (demo below from link),\n",
    "\n",
    "\\begin{align}\n",
    "\\dot{x} & = \\sigma(y-x) \\\\\n",
    "\\dot{y} & = \\rho x - y - xz \\\\\n",
    "\\dot{z} & = -\\beta z + xy\n",
    "\\end{align}"
   ]
  },
  {
   "cell_type": "markdown",
   "metadata": {},
   "source": [
    "Check out [**any number of helpful Markdown resources**](https://www.markdownguide.org/basic-syntax/) for further customizing your notebooks and the [**Jupyter docs**](https://jupyter-notebook.readthedocs.io/en/stable/examples/Notebook/Working%20With%20Markdown%20Cells.html) for Jupyter-specific formatting information. Don't hesitate to ask questions if you have problems getting it to look *just right*."
   ]
  },
  {
   "cell_type": "markdown",
   "metadata": {},
   "source": [
    "## Last Section\n",
    "\n",
    "If you're comfortable, and as we briefly used for our embedded logo up top, you can embed raw html into Jupyter Markdown cells (edit to see):"
   ]
  },
  {
   "cell_type": "markdown",
   "metadata": {},
   "source": [
    "<div class=\"admonition alert alert-info\">\n",
    "    <p class=\"admonition-title\" style=\"font-weight:bold\">Info</p>\n",
    "    Your relevant information here!\n",
    "</div>"
   ]
  },
  {
   "cell_type": "markdown",
   "metadata": {},
   "source": [
    "Feel free to copy this around and edit or play around with yourself. Some other `admonitions` you can put in:"
   ]
  },
  {
   "cell_type": "markdown",
   "metadata": {},
   "source": [
    "<div class=\"admonition alert alert-success\">\n",
    "    <p class=\"admonition-title\" style=\"font-weight:bold\">Success</p>\n",
    "    We got this done after all!\n",
    "</div>"
   ]
  },
  {
   "cell_type": "markdown",
   "metadata": {},
   "source": [
    "<div class=\"admonition alert alert-warning\">\n",
    "    <p class=\"admonition-title\" style=\"font-weight:bold\">Warning</p>\n",
    "    Be careful!\n",
    "</div>"
   ]
  },
  {
   "cell_type": "markdown",
   "metadata": {},
   "source": [
    "<div class=\"admonition alert alert-danger\">\n",
    "    <p class=\"admonition-title\" style=\"font-weight:bold\">Danger</p>\n",
    "    Scary stuff be here.\n",
    "</div>"
   ]
  },
  {
   "cell_type": "markdown",
   "metadata": {},
   "source": [
    "We also suggest checking out Jupyter Book's [brief demonstration](https://jupyterbook.org/content/metadata.html#jupyter-cell-tags) on adding cell tags to your cells in Jupyter Notebook, Lab, or manually. Using these cell tags can allow you to [customize](https://jupyterbook.org/interactive/hiding.html) how your code content is displayed and even [demonstrate errors](https://jupyterbook.org/content/execute.html#dealing-with-code-that-raises-errors) without altogether crashing our loyal army of machines!"
   ]
  },
  {
   "cell_type": "markdown",
   "metadata": {},
   "source": [
    "---"
   ]
  },
  {
   "cell_type": "markdown",
   "metadata": {},
   "source": [
    "## Summary\n",
    "Add one final `---` marking the end of your body of content, and then conclude with a brief single paragraph summarizing at a high level the key pieces that were learned and how they tied to your objectives. Look to reiterate what the most important takeaways were.\n",
    "\n",
    "### What's next?\n",
    "Let Jupyter book tie this to the next (sequential) piece of content that people could move on to down below and in the sidebar. However, if this page uniquely enables your reader to tackle other nonsequential concepts throughout this book, or even external content, link to it here!"
   ]
  },
  {
   "cell_type": "markdown",
   "metadata": {},
   "source": [
    "## Resources and references\n",
    "Finally, be rigorous in your citations and references as necessary. Give credit where credit is due. Also, feel free to link to relevant external material, further reading, documentation, etc. Then you're done! Give yourself a quick review, a high five, and send us a pull request. A few final notes:\n",
    " - `Kernel > Restart Kernel and Run All Cells...` to confirm that your notebook will cleanly run from start to finish\n",
    " - `Kernel > Restart Kernel and Clear All Outputs...` before committing your notebook, our machines will do the heavy lifting\n",
    " - Take credit! Provide author contact information if you'd like; if so, consider adding information here at the bottom of your notebook\n",
    " - Give credit! Attribute appropriate authorship for referenced code, information, images, etc.\n",
    " - Only include what you're legally allowed: **no copyright infringement or plagiarism**\n",
    " \n",
    "Thank you for your contribution!"
   ]
  }
 ],
 "metadata": {
  "kernelspec": {
   "display_name": "Python 3 (ipykernel)",
   "language": "python",
   "name": "python3"
  },
  "language_info": {
   "codemirror_mode": {
    "name": "ipython",
    "version": 3
   },
   "file_extension": ".py",
   "mimetype": "text/x-python",
   "name": "python",
   "nbconvert_exporter": "python",
   "pygments_lexer": "ipython3",
   "version": "3.11.8"
  },
  "nbdime-conflicts": {
   "local_diff": [
    {
     "diff": [
      {
       "diff": [
        {
         "key": 0,
         "op": "addrange",
         "valuelist": [
          "Python 3"
         ]
        },
        {
         "key": 0,
         "length": 1,
         "op": "removerange"
        }
       ],
       "key": "display_name",
       "op": "patch"
      }
     ],
     "key": "kernelspec",
     "op": "patch"
    }
   ],
   "remote_diff": [
    {
     "diff": [
      {
       "diff": [
        {
         "key": 0,
         "op": "addrange",
         "valuelist": [
          "Python3"
         ]
        },
        {
         "key": 0,
         "length": 1,
         "op": "removerange"
        }
       ],
       "key": "display_name",
       "op": "patch"
      }
     ],
     "key": "kernelspec",
     "op": "patch"
    }
   ]
  },
  "toc-autonumbering": false
 },
 "nbformat": 4,
 "nbformat_minor": 4
}
