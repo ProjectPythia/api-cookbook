{
 "cells": [
  {
   "cell_type": "markdown",
   "metadata": {},
   "source": [
    "<img src=\"https://images.unsplash.com/photo-1571171637578-41bc2dd41cd2?q=80&w=2070&auto=format&fit=crop&ixlib=rb-4.0.3&ixid=M3wxMjA3fDB8MHxwaG90by1wYWdlfHx8fGVufDB8fHx8fA%3D%3D\" alt=\"Computer code displayed on dual monitors (October 15, 2019)\"></img>\n",
    "Photo by <a href=\"https://unsplash.com/@ffstop?utm_content=creditCopyText&utm_medium=referral&utm_source=unsplash\">Fotis Fotopoulos</a> on <a href=\"https://unsplash.com/photos/black-computer-keyboard-DuHKoV44prg?utm_content=creditCopyText&utm_medium=referral&utm_source=unsplash\">Unsplash</a>"
   ]
  },
  {
   "cell_type": "markdown",
   "metadata": {},
   "source": [
    "# API Basics"
   ]
  },
  {
   "cell_type": "markdown",
   "metadata": {},
   "source": [
    "---"
   ]
  },
  {
   "cell_type": "markdown",
   "metadata": {},
   "source": [
    "## Overview\n",
    "This notebook will cover the terminology and steps needed to retrieve data from an API\n",
    "\n",
    "1. Prerequisites\n",
    "2. Motivation\n",
    "3. API Terminology (and Status Codes)\n",
    "4. Imports\n",
    "7. Example: Weather API\n",
    "8. Summary"
   ]
  },
  {
   "cell_type": "markdown",
   "metadata": {},
   "source": [
    "## Prerequisites\n",
    "| Concepts | Importance | Notes |\n",
    "| --- | --- | --- |\n",
    "| [Intro to Pandas](https://foundations.projectpythia.org/core/pandas/pandas.html) | Necessary | Familiarity with working with dataframes |\n",
    "| [Intro to Matplotlib](https://foundations.projectpythia.org/core/matplotlib/matplotlib-basics.html) | Helpful | Plotting on a data |"
   ]
  },
  {
   "cell_type": "markdown",
   "metadata": {},
   "source": [
    "---"
   ]
  },
  {
   "cell_type": "markdown",
   "metadata": {},
   "source": [
    "## Motivation"
   ]
  },
  {
   "cell_type": "markdown",
   "metadata": {},
   "source": [
    "There are many ways to gather data. Science and research entities like NASA are constantly producing and collecting data. As a result, attempting to collect and display live data can be difficult since new data is always being added. An API is a method to query a data source for the most current data or retrieve data from a remote source. This notebook will cover the basics regarding API usage to improve ease of access to publicly available data."
   ]
  },
  {
   "cell_type": "markdown",
   "metadata": {},
   "source": [
    "---"
   ]
  },
  {
   "cell_type": "markdown",
   "metadata": {},
   "source": [
    "## API Terminology\n",
    "\n",
    "- API: Application Programming Interface which dictacts how code can communicate and access or update remote data through methods\n",
    "- Request: Code sends `requests` to an API to either retrieve or update data\n",
    "- GET: A `GET` request retrieves data\n",
    "- SET: A `SET` request updates data\n",
    "\n",
    "When working with public APIs, most methods will request data from an API (a `GET` request)\n",
    "\n",
    "### Understanding Status Codes\n",
    "\n",
    "There are [multiple possible status codes](https://www.geeksforgeeks.org/python-api-tutorial-getting-started-with-apis/#api-status-codes) that a request will return. For the purpose of simplicity, the two most important codes are:\n",
    "- 200 OK: The server was able to successfully process the request and return the requested data\n",
    "- 400 Bad Request: The server was *not* able to process the request do to an invalid request (usally the result of an invalid URL or unknown parameters)"
   ]
  },
  {
   "cell_type": "markdown",
   "metadata": {},
   "source": [
    "---"
   ]
  },
  {
   "cell_type": "markdown",
   "metadata": {},
   "source": [
    "## Imports"
   ]
  },
  {
   "cell_type": "code",
   "execution_count": 1,
   "metadata": {},
   "outputs": [],
   "source": [
    "import requests # access API\n",
    "import matplotlib.pyplot as plt"
   ]
  },
  {
   "cell_type": "markdown",
   "metadata": {},
   "source": [
    "### Requests\n",
    "\n",
    "The [Requests Python package](https://requests.readthedocs.io/en/latest/) is a library that manages the requests made in Python\n",
    "\n",
    "A request returns machine-readable data in a JSON. Among the data, requests returns:\n",
    "- request.status_code: status code of the request (200, 400, etc...)\n",
    "- request.text: data requested as a JSON\n",
    "- request.json(): fully JSON returned by the request"
   ]
  },
  {
   "cell_type": "markdown",
   "metadata": {},
   "source": [
    "---"
   ]
  },
  {
   "cell_type": "markdown",
   "metadata": {},
   "source": [
    "## Example: Weather API"
   ]
  },
  {
   "cell_type": "markdown",
   "metadata": {},
   "source": [
    "The [National Weather Serivce](@weather-gov) manages an [API](https://github.com/weather-gov/api) for weather in the United States. The API is hosted at `https://api.weather.gov/`"
   ]
  },
  {
   "cell_type": "markdown",
   "metadata": {},
   "source": [
    "The first step when working with an API should be to check that the API is fuctioning by querying a general request without any additional parameters."
   ]
  },
  {
   "cell_type": "code",
   "execution_count": 2,
   "metadata": {},
   "outputs": [
    {
     "data": {
      "text/plain": [
       "200"
      ]
     },
     "execution_count": 2,
     "metadata": {},
     "output_type": "execute_result"
    }
   ],
   "source": [
    "weather_request = requests.get(\"https://api.weather.gov/\")\n",
    "weather_request.status_code"
   ]
  },
  {
   "cell_type": "markdown",
   "metadata": {},
   "source": [
    "<div class=\"admonition alert alert-info\">\n",
    "    <p class=\"admonition-title\" style=\"font-weight:bold\">Info</p>\n",
    "    <p>A <b>200</b> status code represents that the base API is working as expected and a query request returns no errors.</p>\n",
    "    <p>However, without any additional parameters, all the data that the request returns is just the status code.</p>\n",
    "</div>"
   ]
  },
  {
   "cell_type": "code",
   "execution_count": 3,
   "metadata": {},
   "outputs": [
    {
     "data": {
      "text/plain": [
       "{'status': 'OK'}"
      ]
     },
     "execution_count": 3,
     "metadata": {},
     "output_type": "execute_result"
    }
   ],
   "source": [
    "# All Data\n",
    "weather_request.json()"
   ]
  },
  {
   "cell_type": "markdown",
   "metadata": {},
   "source": [
    "The next step is to query with specific paramters. For the weather API the accepts either a grid around a NWS Weather Forecast Office or a specific latitude/longtiude position \n",
    "\n",
    "The request will be formatted as: \n",
    "\n",
    "```\n",
    "https://api.weather.gov/points/<latitude>,<longitude>\n",
    "```\n",
    "\n",
    "More information about the documentation can be found at [NWS Weather API](https://www.weather.gov/documentation/services-web-api)."
   ]
  },
  {
   "cell_type": "markdown",
   "metadata": {},
   "source": [
    "For example, the location of the [NCAR Mesa Lab](https://en.wikipedia.org/wiki/Mesa_Laboratory) is `39.97777` degrees latitude and `-105.274966` degrees longitude"
   ]
  },
  {
   "cell_type": "code",
   "execution_count": 4,
   "metadata": {},
   "outputs": [],
   "source": [
    "ncar_weather = requests.get(\"https://api.weather.gov/points/39.97777,-105.274966\")"
   ]
  },
  {
   "cell_type": "code",
   "execution_count": 5,
   "metadata": {},
   "outputs": [
    {
     "data": {
      "text/plain": [
       "200"
      ]
     },
     "execution_count": 5,
     "metadata": {},
     "output_type": "execute_result"
    }
   ],
   "source": [
    "# Check request returned a valid response\n",
    "ncar_weather.status_code"
   ]
  },
  {
   "cell_type": "markdown",
   "metadata": {},
   "source": [
    "<div class=\"admonition alert alert-success\">\n",
    "    <p class=\"admonition-title\" style=\"font-weight:bold\">Success</p>\n",
    "    <p>With a valid request and paramters, this request will return data as well!</p>\n",
    "</div>"
   ]
  },
  {
   "cell_type": "code",
   "execution_count": 6,
   "metadata": {
    "scrolled": true
   },
   "outputs": [
    {
     "data": {
      "text/plain": [
       "{'@context': ['https://geojson.org/geojson-ld/geojson-context.jsonld',\n",
       "  {'@version': '1.1',\n",
       "   'wx': 'https://api.weather.gov/ontology#',\n",
       "   's': 'https://schema.org/',\n",
       "   'geo': 'http://www.opengis.net/ont/geosparql#',\n",
       "   'unit': 'http://codes.wmo.int/common/unit/',\n",
       "   '@vocab': 'https://api.weather.gov/ontology#',\n",
       "   'geometry': {'@id': 's:GeoCoordinates', '@type': 'geo:wktLiteral'},\n",
       "   'city': 's:addressLocality',\n",
       "   'state': 's:addressRegion',\n",
       "   'distance': {'@id': 's:Distance', '@type': 's:QuantitativeValue'},\n",
       "   'bearing': {'@type': 's:QuantitativeValue'},\n",
       "   'value': {'@id': 's:value'},\n",
       "   'unitCode': {'@id': 's:unitCode', '@type': '@id'},\n",
       "   'forecastOffice': {'@type': '@id'},\n",
       "   'forecastGridData': {'@type': '@id'},\n",
       "   'publicZone': {'@type': '@id'},\n",
       "   'county': {'@type': '@id'}}],\n",
       " 'id': 'https://api.weather.gov/points/39.9778,-105.275',\n",
       " 'type': 'Feature',\n",
       " 'geometry': {'type': 'Point', 'coordinates': [-105.275, 39.9778]},\n",
       " 'properties': {'@id': 'https://api.weather.gov/points/39.9778,-105.275',\n",
       "  '@type': 'wx:Point',\n",
       "  'cwa': 'BOU',\n",
       "  'forecastOffice': 'https://api.weather.gov/offices/BOU',\n",
       "  'gridId': 'BOU',\n",
       "  'gridX': 54,\n",
       "  'gridY': 73,\n",
       "  'forecast': 'https://api.weather.gov/gridpoints/BOU/54,73/forecast',\n",
       "  'forecastHourly': 'https://api.weather.gov/gridpoints/BOU/54,73/forecast/hourly',\n",
       "  'forecastGridData': 'https://api.weather.gov/gridpoints/BOU/54,73',\n",
       "  'observationStations': 'https://api.weather.gov/gridpoints/BOU/54,73/stations',\n",
       "  'relativeLocation': {'type': 'Feature',\n",
       "   'geometry': {'type': 'Point', 'coordinates': [-105.249081, 39.939266]},\n",
       "   'properties': {'city': 'Eldorado Springs',\n",
       "    'state': 'CO',\n",
       "    'distance': {'unitCode': 'wmoUnit:m', 'value': 4820.7565022561},\n",
       "    'bearing': {'unitCode': 'wmoUnit:degree_(angle)', 'value': 332}}},\n",
       "  'forecastZone': 'https://api.weather.gov/zones/forecast/COZ035',\n",
       "  'county': 'https://api.weather.gov/zones/county/COC013',\n",
       "  'fireWeatherZone': 'https://api.weather.gov/zones/fire/COZ215',\n",
       "  'timeZone': 'America/Denver',\n",
       "  'radarStation': 'KFTG'}}"
      ]
     },
     "execution_count": 6,
     "metadata": {},
     "output_type": "execute_result"
    }
   ],
   "source": [
    "ncar_weather.json()"
   ]
  },
  {
   "cell_type": "markdown",
   "metadata": {},
   "source": [
    "With the latitude and longtiude of a position, the API will return information about the closest NWS forecast office that can be further queried to return the weather. A JSON acts like a Python dictionary; to return the values stored, `json()` can be queried for a specific key."
   ]
  },
  {
   "cell_type": "code",
   "execution_count": 7,
   "metadata": {},
   "outputs": [
    {
     "name": "stdout",
     "output_type": "stream",
     "text": [
      "<class 'dict'>\n",
      "\n",
      "key: @context\n",
      "value: ['https://geojson.org/geojson-ld/geojson-context.jsonld', {'@version': '1.1', 'wx': 'https://api.weather.gov/ontology#', 's': 'https://schema.org/', 'geo': 'http://www.opengis.net/ont/geosparql#', 'unit': 'http://codes.wmo.int/common/unit/', '@vocab': 'https://api.weather.gov/ontology#', 'geometry': {'@id': 's:GeoCoordinates', '@type': 'geo:wktLiteral'}, 'city': 's:addressLocality', 'state': 's:addressRegion', 'distance': {'@id': 's:Distance', '@type': 's:QuantitativeValue'}, 'bearing': {'@type': 's:QuantitativeValue'}, 'value': {'@id': 's:value'}, 'unitCode': {'@id': 's:unitCode', '@type': '@id'}, 'forecastOffice': {'@type': '@id'}, 'forecastGridData': {'@type': '@id'}, 'publicZone': {'@type': '@id'}, 'county': {'@type': '@id'}}]\n",
      "\n",
      "key: id\n",
      "value: https://api.weather.gov/points/39.9778,-105.275\n",
      "\n",
      "key: type\n",
      "value: Feature\n",
      "\n",
      "key: geometry\n",
      "value: {'type': 'Point', 'coordinates': [-105.275, 39.9778]}\n",
      "\n",
      "key: properties\n",
      "value: {'@id': 'https://api.weather.gov/points/39.9778,-105.275', '@type': 'wx:Point', 'cwa': 'BOU', 'forecastOffice': 'https://api.weather.gov/offices/BOU', 'gridId': 'BOU', 'gridX': 54, 'gridY': 73, 'forecast': 'https://api.weather.gov/gridpoints/BOU/54,73/forecast', 'forecastHourly': 'https://api.weather.gov/gridpoints/BOU/54,73/forecast/hourly', 'forecastGridData': 'https://api.weather.gov/gridpoints/BOU/54,73', 'observationStations': 'https://api.weather.gov/gridpoints/BOU/54,73/stations', 'relativeLocation': {'type': 'Feature', 'geometry': {'type': 'Point', 'coordinates': [-105.249081, 39.939266]}, 'properties': {'city': 'Eldorado Springs', 'state': 'CO', 'distance': {'unitCode': 'wmoUnit:m', 'value': 4820.7565022561}, 'bearing': {'unitCode': 'wmoUnit:degree_(angle)', 'value': 332}}}, 'forecastZone': 'https://api.weather.gov/zones/forecast/COZ035', 'county': 'https://api.weather.gov/zones/county/COC013', 'fireWeatherZone': 'https://api.weather.gov/zones/fire/COZ215', 'timeZone': 'America/Denver', 'radarStation': 'KFTG'}\n"
     ]
    }
   ],
   "source": [
    "# JSON as Dictionary\n",
    "print(type(ncar_weather.json()))\n",
    "for key, value in ncar_weather.json().items():\n",
    "    print(f\"\\nkey: {key}\")\n",
    "    print(f\"value: {value}\")"
   ]
  },
  {
   "cell_type": "markdown",
   "metadata": {},
   "source": [
    "The closest forecast office from the NCAR Mesa Lab is `forecastOffice`"
   ]
  },
  {
   "cell_type": "code",
   "execution_count": 8,
   "metadata": {},
   "outputs": [
    {
     "data": {
      "text/plain": [
       "'https://api.weather.gov/offices/BOU'"
      ]
     },
     "execution_count": 8,
     "metadata": {},
     "output_type": "execute_result"
    }
   ],
   "source": [
    "ncar_weather.json()[\"properties\"][\"forecastOffice\"]"
   ]
  },
  {
   "cell_type": "markdown",
   "metadata": {},
   "source": [
    "The query also return the hourly forecast as a further URL to query as a request under `forecastHourly`"
   ]
  },
  {
   "cell_type": "code",
   "execution_count": 9,
   "metadata": {},
   "outputs": [
    {
     "data": {
      "text/plain": [
       "'https://api.weather.gov/gridpoints/BOU/54,73/forecast/hourly'"
      ]
     },
     "execution_count": 9,
     "metadata": {},
     "output_type": "execute_result"
    }
   ],
   "source": [
    "ncar_forecast_url = ncar_weather.json()[\"properties\"][\"forecastHourly\"]\n",
    "ncar_forecast_url"
   ]
  },
  {
   "cell_type": "code",
   "execution_count": 10,
   "metadata": {},
   "outputs": [
    {
     "data": {
      "text/plain": [
       "200"
      ]
     },
     "execution_count": 10,
     "metadata": {},
     "output_type": "execute_result"
    }
   ],
   "source": [
    "ncar_forecast_hourly = requests.get(ncar_forecast_url)\n",
    "ncar_forecast_hourly.status_code"
   ]
  },
  {
   "cell_type": "markdown",
   "metadata": {},
   "source": [
    "<div class=\"admonition alert alert-info\">\n",
    "    <p class=\"admonition-title\" style=\"font-weight:bold\">Note</p>\n",
    "    <p>There is a lot more data returned from this request! The forecast information can be collected under <b>properties</b> and <b>period</b>. Each period of time has various weather values to chose from:</p>\n",
    "</div>"
   ]
  },
  {
   "cell_type": "code",
   "execution_count": 11,
   "metadata": {},
   "outputs": [
    {
     "data": {
      "text/plain": [
       "dict_keys(['number', 'name', 'startTime', 'endTime', 'isDaytime', 'temperature', 'temperatureUnit', 'temperatureTrend', 'probabilityOfPrecipitation', 'dewpoint', 'relativeHumidity', 'windSpeed', 'windDirection', 'icon', 'shortForecast', 'detailedForecast'])"
      ]
     },
     "execution_count": 11,
     "metadata": {},
     "output_type": "execute_result"
    }
   ],
   "source": [
    "ncar_forecast_hourly.json()[\"properties\"][\"periods\"][0].keys()"
   ]
  },
  {
   "cell_type": "markdown",
   "metadata": {},
   "source": [
    "To plot, let's collect the `startTime`, `endTime` and `temperature` (&deg; F) values"
   ]
  },
  {
   "cell_type": "code",
   "execution_count": 12,
   "metadata": {},
   "outputs": [
    {
     "name": "stdout",
     "output_type": "stream",
     "text": [
      "2024-06-21T04:00:00-06:00\n",
      "2024-06-27T16:00:00-06:00\n"
     ]
    }
   ],
   "source": [
    "datetime_start = ncar_forecast_hourly.json()[\"properties\"][\"periods\"][0][\"startTime\"]\n",
    "datetime_end = ncar_forecast_hourly.json()[\"properties\"][\"periods\"][-1][\"endTime\"]\n",
    "print(datetime_start)\n",
    "print(datetime_end)"
   ]
  },
  {
   "cell_type": "code",
   "execution_count": 13,
   "metadata": {},
   "outputs": [
    {
     "name": "stdout",
     "output_type": "stream",
     "text": [
      "[64, 63, 59, 61, 63, 67, 73, 78, 81, 82, 81, 80, 80, 81, 80, 79, 76, 73, 70, 68, 66, 65, 65, 64, 63, 62, 63, 66, 70, 74, 78, 81, 83, 84, 85, 85, 85, 84, 83, 80, 77, 74, 71, 70, 69, 69, 68, 66, 65, 64, 65, 69, 74, 80, 83, 86, 87, 87, 87, 88, 89, 89, 88, 84, 80, 76, 74, 73, 72, 71, 70, 69, 68, 68, 69, 72, 75, 80, 84, 88, 91, 92, 92, 91, 89, 87, 85, 83, 80, 78, 76, 74, 72, 70, 68, 67, 67, 67, 69, 71, 74, 77, 80, 83, 86, 87, 88, 88, 87, 86, 84, 82, 80, 77, 75, 72, 70, 68, 66, 65, 65, 65, 67, 69, 73, 76, 80, 83, 86, 87, 88, 88, 87, 86, 84, 82, 80, 78, 76, 73, 71, 70, 68, 67, 67, 68, 69, 72, 75, 79, 83, 86, 88, 90, 90, 89]\n"
     ]
    }
   ],
   "source": [
    "# Temperatures every hour\n",
    "hour_x = []\n",
    "temperature = []\n",
    "for period in ncar_forecast_hourly.json()[\"properties\"][\"periods\"]:\n",
    "    hour_x.append(period[\"startTime\"])\n",
    "    temperature.append(period[\"temperature\"]) # collection of temperatures \n",
    "print(temperature)"
   ]
  },
  {
   "cell_type": "code",
   "execution_count": 16,
   "metadata": {
    "scrolled": true
   },
   "outputs": [
    {
     "data": {
      "image/png": "[encoded data removed]",
      "text/plain": [
       "<Figure size 2200x1000 with 1 Axes>"
      ]
     },
     "metadata": {},
     "output_type": "display_data"
    }
   ],
   "source": [
    "# Plot\n",
    "fig, ax = plt.subplots(figsize=(22, 10))\n",
    "\n",
    "# Plot Hourly Temperature\n",
    "plt.bar(hour_x, temperature, color=\"dodgerblue\")\n",
    "\n",
    "# Setup Axis Limits and Title/Labels\n",
    "plt.title(f\"Hourly Tempearture at NCAR Mesa Lab for the Next {len(temperature)/24} Days\")\n",
    "plt.xlabel(\"Datetime\")\n",
    "plt.xticks(rotation=90, fontsize=8)\n",
    "plt.ylabel(\"Temperature (\\u00B0F)\")\n",
    "plt.show()"
   ]
  },
  {
   "cell_type": "markdown",
   "metadata": {},
   "source": [
    "<div class=\"admonition alert alert-success\">\n",
    "    <p class=\"admonition-title\" style=\"font-weight:bold\">Success</p>\n",
    "    <p>We have ploted the forecasted hourly temperatures for next week!</p>\n",
    "</div>"
   ]
  },
  {
   "cell_type": "markdown",
   "metadata": {},
   "source": [
    "---"
   ]
  },
  {
   "cell_type": "markdown",
   "metadata": {
    "jp-MarkdownHeadingCollapsed": true
   },
   "source": [
    "## Summary\n",
    "In this notebook, we have...\n",
    "- covered basics about API terminology\n",
    "- gone through a practice example of requesting data from the National Weather Service API\n",
    "- generated a plot of forecasted temperatures\n",
    "\n",
    "### What's next?\n",
    "Now we can continue investigating other APIs using some example workflows in this cookbook.\n",
    "- [Center for Near-Earth Object Studies Fireball API](../example-workflows/cneos-fireball.ipynb)\n",
    "- [Environmental Protection Agency's Air Quality System API](../example-workflows/air-quality-system-api.ipynb)\n",
    "- [National Aeronautics and Space Administration Earthaccess API](../example-workflows/earthaccess-sla-sss)\n",
    "- [Whiteface Mountain Cloud Water Request](../example-workflows/wfm-cloud-water)"
   ]
  },
  {
   "cell_type": "markdown",
   "metadata": {},
   "source": [
    "## Resources and references\n",
    "\n",
    "- [Python API Tutorial: Getting Started with APIs](https://www.geeksforgeeks.org/python-api-tutorial-getting-started-with-apis/)\n",
    "- [Requests Python Library](https://requests.readthedocs.io/en/latest/)\n",
    "- [National Weather Service API](https://www.weather.gov/documentation/services-web-api)"
   ]
  }
 ],
 "metadata": {
  "kernelspec": {
   "display_name": "Python 3 (ipykernel)",
   "language": "python",
   "name": "python3"
  },
  "language_info": {
   "codemirror_mode": {
    "name": "ipython",
    "version": 3
   },
   "file_extension": ".py",
   "mimetype": "text/x-python",
   "name": "python",
   "nbconvert_exporter": "python",
   "pygments_lexer": "ipython3",
   "version": "3.12.4"
  },
  "nbdime-conflicts": {
   "local_diff": [
    {
     "diff": [
      {
       "diff": [
        {
         "key": 0,
         "op": "addrange",
         "valuelist": [
          "Python 3"
         ]
        },
        {
         "key": 0,
         "length": 1,
         "op": "removerange"
        }
       ],
       "key": "display_name",
       "op": "patch"
      }
     ],
     "key": "kernelspec",
     "op": "patch"
    }
   ],
   "remote_diff": [
    {
     "diff": [
      {
       "diff": [
        {
         "key": 0,
         "op": "addrange",
         "valuelist": [
          "Python3"
         ]
        },
        {
         "key": 0,
         "length": 1,
         "op": "removerange"
        }
       ],
       "key": "display_name",
       "op": "patch"
      }
     ],
     "key": "kernelspec",
     "op": "patch"
    }
   ]
  },
  "toc-autonumbering": false
 },
 "nbformat": 4,
 "nbformat_minor": 4
}
